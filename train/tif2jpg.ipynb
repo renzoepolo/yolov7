{
 "cells": [
  {
   "cell_type": "code",
   "execution_count": 1,
   "id": "cdd15b03-f1b3-4497-8873-7611ccb947ab",
   "metadata": {},
   "outputs": [],
   "source": [
    "import os\n",
    "from PIL import Image"
   ]
  },
  {
   "cell_type": "code",
   "execution_count": 2,
   "id": "f489fbc8-0507-40d5-ad07-86be4b1ddc6f",
   "metadata": {},
   "outputs": [],
   "source": [
    "def tifs_to_jpgs(input_dir, output_dir):\n",
    "    # Verificar si el directorio de salida existe, si no, crearlo\n",
    "    if not os.path.exists(output_dir):\n",
    "        os.makedirs(output_dir)\n",
    "\n",
    "    # Obtener la lista de archivos en el directorio de entrada\n",
    "    tif_files = [f for f in os.listdir(input_dir) if f.endswith('.tif')]\n",
    "\n",
    "    # Iterar sobre los archivos TIF y convertirlos a JPG\n",
    "    for tif_file in tif_files:\n",
    "        # Crear la ruta completa de entrada y salida\n",
    "        input_tif = os.path.join(input_dir, tif_file)\n",
    "        output_jpg = os.path.join(output_dir, os.path.splitext(tif_file)[0] + '.jpg')\n",
    "\n",
    "        # Abrir la imagen TIF\n",
    "        try:\n",
    "            image = Image.open(input_tif)\n",
    "        except IOError:\n",
    "            print(\"No se pudo abrir el archivo:\", input_tif)\n",
    "            continue\n",
    "        \n",
    "        # Guardar la imagen como JPG\n",
    "        try:\n",
    "            image.save(output_jpg, \"JPEG\")\n",
    "            print(\"Imagen convertida:\", input_tif, \"->\", output_jpg)\n",
    "        except IOError:\n",
    "            print(\"No se pudo guardar la imagen como JPG:\", output_jpg)\n",
    "\n",
    "    print(\"Conversión completada.\")"
   ]
  },
  {
   "cell_type": "code",
   "execution_count": 3,
   "id": "c7fb7c0f-5011-45b9-b97b-a941fcc171c2",
   "metadata": {},
   "outputs": [
    {
     "name": "stdout",
     "output_type": "stream",
     "text": [
      "Imagen convertida: demo_yolo/teselas_tif/bbox_0_2_1.tif -> demo_yolo/teselas_jpg/bbox_0_2_1.jpg\n",
      "Imagen convertida: demo_yolo/teselas_tif/bbox_0_1_1.tif -> demo_yolo/teselas_jpg/bbox_0_1_1.jpg\n",
      "Imagen convertida: demo_yolo/teselas_tif/bbox_0_0_2.tif -> demo_yolo/teselas_jpg/bbox_0_0_2.jpg\n",
      "Imagen convertida: demo_yolo/teselas_tif/bbox_0_2_2.tif -> demo_yolo/teselas_jpg/bbox_0_2_2.jpg\n",
      "Imagen convertida: demo_yolo/teselas_tif/bbox_0_2_0.tif -> demo_yolo/teselas_jpg/bbox_0_2_0.jpg\n",
      "Imagen convertida: demo_yolo/teselas_tif/bbox_0_0_0.tif -> demo_yolo/teselas_jpg/bbox_0_0_0.jpg\n",
      "Imagen convertida: demo_yolo/teselas_tif/bbox_0_1_2.tif -> demo_yolo/teselas_jpg/bbox_0_1_2.jpg\n",
      "Imagen convertida: demo_yolo/teselas_tif/bbox_0_0_1.tif -> demo_yolo/teselas_jpg/bbox_0_0_1.jpg\n",
      "Imagen convertida: demo_yolo/teselas_tif/bbox_0_1_0.tif -> demo_yolo/teselas_jpg/bbox_0_1_0.jpg\n",
      "Conversión completada.\n"
     ]
    }
   ],
   "source": [
    "def main():\n",
    "    # Ejemplo de uso\n",
    "    input_directory = \"teselas_tif\"\n",
    "    output_directory = \"teselas_jpg\"\n",
    "    tifs_to_jpgs(input_directory, output_directory)\n",
    "\n",
    "if __name__ == \"__main__\":\n",
    "    main()"
   ]
  },
  {
   "cell_type": "code",
   "execution_count": null,
   "id": "e6aa7226-0a81-47b1-9985-87ed93f42f97",
   "metadata": {},
   "outputs": [],
   "source": []
  }
 ],
 "metadata": {
  "kernelspec": {
   "display_name": "Python 3 (ipykernel)",
   "language": "python",
   "name": "python3"
  },
  "language_info": {
   "codemirror_mode": {
    "name": "ipython",
    "version": 3
   },
   "file_extension": ".py",
   "mimetype": "text/x-python",
   "name": "python",
   "nbconvert_exporter": "python",
   "pygments_lexer": "ipython3",
   "version": "3.12.2"
  }
 },
 "nbformat": 4,
 "nbformat_minor": 5
}
